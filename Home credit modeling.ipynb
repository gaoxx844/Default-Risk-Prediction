{
 "cells": [
  {
   "cell_type": "markdown",
   "metadata": {},
   "source": [
    "### import functions"
   ]
  },
  {
   "cell_type": "code",
   "execution_count": 1,
   "metadata": {},
   "outputs": [],
   "source": [
    "from sklearn.model_selection  import cross_val_score, train_test_split, cross_validate, cross_val_score,KFold,RandomizedSearchCV,RepeatedKFold, GridSearchCV,StratifiedKFold\n",
    "from sklearn import svm,tree, neighbors,linear_model, preprocessing\n",
    "from sklearn.metrics import make_scorer, accuracy_score, confusion_matrix, classification_report, roc_curve, auc, r2_score\n",
    "from sklearn import metrics\n",
    "import xgboost as xgb\n",
    "from lightgbm import LGBMClassifier\n",
    "import lightgbm as lgb\n",
    "import numpy as np\n",
    "import pandas as pd \n",
    "from sklearn.model_selection  import cross_val_score, train_test_split, cross_validate, cross_val_score,KFold,RandomizedSearchCV,RepeatedKFold, GridSearchCV,StratifiedKFold\n",
    "\n",
    "# sklearn preprocessing for dealing with categorical variables\n",
    "from sklearn.preprocessing import LabelEncoder\n",
    "from sklearn.decomposition import PCA\n",
    "\n",
    "# File system manangement\n",
    "import os\n",
    "\n",
    "# Suppress warnings \n",
    "import warnings\n",
    "warnings.filterwarnings('ignore')\n",
    "\n",
    "# matplotlib and seaborn for plotting\n",
    "import matplotlib.pyplot as plt\n",
    "import seaborn as sns\n",
    "import pandas as pd \n",
    "import missingno as msno "
   ]
  },
  {
   "cell_type": "markdown",
   "metadata": {},
   "source": [
    "### load in data"
   ]
  },
  {
   "cell_type": "code",
   "execution_count": 2,
   "metadata": {},
   "outputs": [],
   "source": [
    "app_train = pd.read_csv('C:/Users/yidan/Desktop/fall/PA/Project/application_train.csv')\n",
    "app_test = pd.read_csv('C:/Users/yidan/Desktop/fall/PA/Project/application_test.csv')\n",
    "bureau= pd.read_csv('C:/Users/yidan/Desktop/fall/PA/Project/bureau.csv')\n",
    "b_balance= pd.read_csv('C:/Users/yidan/Desktop/fall/PA/Project/bureau_balance.csv')\n",
    "c_balance= pd.read_csv('C:/Users/yidan/Desktop/fall/PA/Project/credit_card_balance.csv')\n",
    "install= pd.read_csv('C:/Users/yidan/Desktop/fall/PA/Project/installments_payments.csv')"
   ]
  },
  {
   "cell_type": "markdown",
   "metadata": {},
   "source": [
    "### categorical -> numerical"
   ]
  },
  {
   "cell_type": "code",
   "execution_count": 3,
   "metadata": {},
   "outputs": [],
   "source": [
    "#categorical variable with less than \n",
    "# 3 unique values, encode to 0,1,2\n",
    "le = LabelEncoder()\n",
    "le_count = 0"
   ]
  },
  {
   "cell_type": "code",
   "execution_count": 4,
   "metadata": {},
   "outputs": [
    {
     "name": "stdout",
     "output_type": "stream",
     "text": [
      "3 columns were label encoded.\n"
     ]
    }
   ],
   "source": [
    "# Iterate through the columns\n",
    "for col in app_train:\n",
    "    if app_train[col].dtype == 'object':\n",
    "        # If 2 or fewer unique categories\n",
    "        if len(list(app_train[col].unique())) <= 2:\n",
    "            # Train on the training data\n",
    "            le.fit(app_train[col])\n",
    "            # Transform both training and testing data\n",
    "            app_train[col] = le.transform(app_train[col])\n",
    "            app_test[col] = le.transform(app_test[col])\n",
    "            \n",
    "            # Keep track of how many columns were label encoded\n",
    "            le_count += 1\n",
    "            \n",
    "print('%d columns were label encoded.' % le_count)"
   ]
  },
  {
   "cell_type": "code",
   "execution_count": 5,
   "metadata": {},
   "outputs": [
    {
     "name": "stdout",
     "output_type": "stream",
     "text": [
      "Training Features shape:  (307511, 243)\n",
      "Testing Features shape:  (48744, 239)\n"
     ]
    }
   ],
   "source": [
    "#categorical variable with more than \n",
    "# 3 unique values, convert to dummy variables\n",
    "# one-hot encoding of categorical variables\n",
    "app_train = pd.get_dummies(app_train)\n",
    "app_test = pd.get_dummies(app_test)\n",
    "\n",
    "print('Training Features shape: ', app_train.shape)\n",
    "print('Testing Features shape: ', app_test.shape)"
   ]
  },
  {
   "cell_type": "code",
   "execution_count": 6,
   "metadata": {},
   "outputs": [
    {
     "name": "stdout",
     "output_type": "stream",
     "text": [
      "There are 9274 anomalies in the test data out of 48744 entries\n"
     ]
    }
   ],
   "source": [
    "app_test['DAYS_EMPLOYED_ANOM'] = app_test[\"DAYS_EMPLOYED\"] == 365243\n",
    "app_test[\"DAYS_EMPLOYED\"].replace({365243: np.nan}, inplace = True)\n",
    "\n",
    "print('There are %d anomalies in the test data out of %d entries' % (app_test[\"DAYS_EMPLOYED_ANOM\"].sum(), len(app_test)))"
   ]
  },
  {
   "cell_type": "markdown",
   "metadata": {},
   "source": [
    "### Label Y"
   ]
  },
  {
   "cell_type": "code",
   "execution_count": 7,
   "metadata": {},
   "outputs": [
    {
     "name": "stdout",
     "output_type": "stream",
     "text": [
      "Training Features shape:  (307511, 240)\n",
      "Testing Features shape:  (48744, 239)\n"
     ]
    }
   ],
   "source": [
    "train_labels = app_train['TARGET']\n",
    "\n",
    "# Align the training and testing data, keep only columns present in both dataframes\n",
    "app_train, app_test = app_train.align(app_test, join = 'inner', axis = 1)\n",
    "\n",
    "# Add the target back in\n",
    "app_train['TARGET'] = train_labels\n",
    "\n",
    "print('Training Features shape: ', app_train.shape)\n",
    "print('Testing Features shape: ', app_test.shape)"
   ]
  },
  {
   "cell_type": "markdown",
   "metadata": {},
   "source": [
    "### impute missing values"
   ]
  },
  {
   "cell_type": "code",
   "execution_count": 8,
   "metadata": {},
   "outputs": [],
   "source": [
    "#filling in the missing values (imputation) and \n",
    "#normalizing the range of the features (feature scaling)\n",
    "from sklearn.preprocessing import MinMaxScaler\n",
    "from sklearn.impute import SimpleImputer\n",
    "\n",
    "# Drop the target from the training data\n",
    "if 'TARGET' in app_train:\n",
    "    train = app_train.drop(columns = ['TARGET'])\n",
    "else:\n",
    "    train = app_train.copy()\n",
    "    \n",
    "# Feature names\n",
    "features = list(train.columns)\n",
    "\n",
    "# Copy of the testing data\n",
    "test = app_test.copy()\n",
    "\n",
    "# Median imputation of missing values\n",
    "imputer = SimpleImputer(strategy = 'median')\n",
    "\n",
    "# Scale each feature to 0-1\n",
    "scaler = MinMaxScaler(feature_range = (0, 1))"
   ]
  },
  {
   "cell_type": "code",
   "execution_count": 9,
   "metadata": {},
   "outputs": [],
   "source": [
    "# Fit on the training data\n",
    "imputer.fit(train)\n",
    "\n",
    "# Transform both training and testing data\n",
    "train = imputer.transform(train)\n",
    "test = imputer.transform(app_test)"
   ]
  },
  {
   "cell_type": "code",
   "execution_count": 10,
   "metadata": {},
   "outputs": [
    {
     "name": "stdout",
     "output_type": "stream",
     "text": [
      "Training data shape:  (307511, 239)\n",
      "Testing data shape:  (48744, 239)\n"
     ]
    }
   ],
   "source": [
    "# Repeat with the scaler\n",
    "scaler.fit(train)\n",
    "train = scaler.transform(train)\n",
    "test = scaler.transform(test)\n",
    "\n",
    "print('Training data shape: ', train.shape)\n",
    "print('Testing data shape: ', test.shape)"
   ]
  },
  {
   "cell_type": "markdown",
   "metadata": {},
   "source": [
    "### PCA"
   ]
  },
  {
   "cell_type": "code",
   "execution_count": 11,
   "metadata": {},
   "outputs": [],
   "source": [
    "pca = PCA(n_components=98)\n",
    "pca.fit(train)\n",
    "pca_train = pca.transform(train)\n",
    "pca.fit(test)\n",
    "pca_test = pca.transform(test)"
   ]
  },
  {
   "cell_type": "code",
   "execution_count": 12,
   "metadata": {},
   "outputs": [
    {
     "name": "stdout",
     "output_type": "stream",
     "text": [
      "Training data shape:  (307511, 98)\n",
      "Testing data shape:  (48744, 98)\n"
     ]
    }
   ],
   "source": [
    "print('Training data shape: ', pca_train.shape)\n",
    "print('Testing data shape: ', pca_test.shape)"
   ]
  },
  {
   "cell_type": "markdown",
   "metadata": {},
   "source": [
    "### split train test"
   ]
  },
  {
   "cell_type": "code",
   "execution_count": 13,
   "metadata": {},
   "outputs": [],
   "source": [
    "X_train, X_test, y_train, y_test = train_test_split(\n",
    "    pca_train, train_labels, train_size=0.8)"
   ]
  },
  {
   "cell_type": "markdown",
   "metadata": {},
   "source": [
    "### Logistic Reg"
   ]
  },
  {
   "cell_type": "code",
   "execution_count": 14,
   "metadata": {},
   "outputs": [
    {
     "name": "stdout",
     "output_type": "stream",
     "text": [
      "best parameters:\n",
      "C: 0.01\n",
      "penalty: l1\n",
      "Logistic Regression R2: 0.919711\n",
      "              precision    recall  f1-score   support\n",
      "\n",
      "           0       0.92      1.00      0.96     56569\n",
      "           1       0.40      0.00      0.00      4934\n",
      "\n",
      "    accuracy                           0.92     61503\n",
      "   macro avg       0.66      0.50      0.48     61503\n",
      "weighted avg       0.88      0.92      0.88     61503\n",
      "\n"
     ]
    }
   ],
   "source": [
    "from sklearn.linear_model import LogisticRegression\n",
    "\n",
    "# Make the model with the specified regularization parameter\n",
    "log_reg = LogisticRegression(C = 0.0001)\n",
    "\n",
    "# Train on the training data\n",
    "k_fold = StratifiedKFold(n_splits=2)\n",
    "clf_log = linear_model.LogisticRegression(solver='liblinear')\n",
    "\n",
    "param_range = [0.01,0.1, 1, 10, 100]\n",
    "params= {'C': param_range, 'penalty': ['l1','l2']}\n",
    "scoring_fnc = make_scorer(accuracy_score)\n",
    "grid = GridSearchCV(clf_log, param_grid=params,scoring=scoring_fnc,cv=k_fold)\n",
    "grid = grid.fit(X_train, y_train)\n",
    "clf_log = grid.best_estimator_\n",
    "\n",
    "print('best parameters:')\n",
    "for key in params.keys():\n",
    "    print('%s: %s'%(key, clf_log.get_params()[key]))\n",
    "print('Logistic Regression R2: %f'%clf_log.score(X_test, y_test))\n",
    "print(classification_report(y_test,grid.predict(X_test)))"
   ]
  },
  {
   "cell_type": "markdown",
   "metadata": {},
   "source": [
    "### Random Forest"
   ]
  },
  {
   "cell_type": "code",
   "execution_count": 15,
   "metadata": {},
   "outputs": [
    {
     "name": "stdout",
     "output_type": "stream",
     "text": [
      "best parameters:\n",
      "n_estimators: 100\n",
      "max_depth: None\n",
      "Random Forest R2: 0.919776\n",
      "              precision    recall  f1-score   support\n",
      "\n",
      "           0       0.92      1.00      0.96     56569\n",
      "           1       0.00      0.00      0.00      4934\n",
      "\n",
      "    accuracy                           0.92     61503\n",
      "   macro avg       0.46      0.50      0.48     61503\n",
      "weighted avg       0.85      0.92      0.88     61503\n",
      "\n"
     ]
    }
   ],
   "source": [
    "#Random Forest\n",
    "from sklearn import ensemble\n",
    "clf_rf=ensemble.RandomForestClassifier()\n",
    "\n",
    "k_fold=KFold(n_splits=2)\n",
    "params= {'n_estimators': range(1,5), 'max_depth': range(1,5)}\n",
    "scoring_fnc = make_scorer(accuracy_score)\n",
    "rf_grid = GridSearchCV(clf_rf, param_grid=params,scoring=scoring_fnc,cv=k_fold)\n",
    "rf_grid = rf_grid.fit(X_train, y_train)\n",
    "clf_rand= rf_grid.best_estimator_\n",
    "\n",
    "print('best parameters:')\n",
    "for key in params.keys():\n",
    "    print('%s: %s'%(key, clf_rf.get_params()[key]))\n",
    "print('Random Forest R2: %f'%clf_rand.score(X_test, y_test))\n",
    "print(classification_report(y_test,rf_grid.predict(X_test)))"
   ]
  },
  {
   "cell_type": "markdown",
   "metadata": {},
   "source": [
    "### XGBoost"
   ]
  },
  {
   "cell_type": "code",
   "execution_count": 24,
   "metadata": {},
   "outputs": [
    {
     "name": "stdout",
     "output_type": "stream",
     "text": [
      "[19:07:03] WARNING: C:/Users/Administrator/workspace/xgboost-win64_release_1.5.1/src/learner.cc:1115: Starting in XGBoost 1.3.0, the default evaluation metric used with the objective 'binary:logistic' was changed from 'error' to 'logloss'. Explicitly set eval_metric if you'd like to restore the old behavior.\n",
      "XGBoost's prediction accuracy is: 0.9209\n",
      "              precision    recall  f1-score   support\n",
      "\n",
      "           0       0.92      1.00      0.96     56638\n",
      "           1       0.60      0.00      0.00      4865\n",
      "\n",
      "    accuracy                           0.92     61503\n",
      "   macro avg       0.76      0.50      0.48     61503\n",
      "weighted avg       0.90      0.92      0.88     61503\n",
      "\n"
     ]
    }
   ],
   "source": [
    "from xgboost import XGBClassifier\n",
    "xgb = XGBClassifier(n_estimators=10)\n",
    "xgb.fit(X_train, y_train)\n",
    "preds = xgb.predict(X_test)\n",
    "acc_xgb = (preds == y_test).sum().astype(float) / len(preds)\n",
    "print(\"XGBoost's prediction accuracy is: %3.4f\" % (acc_xgb))\n",
    "print(classification_report(y_test,xgb.predict(X_test)))"
   ]
  },
  {
   "cell_type": "markdown",
   "metadata": {},
   "source": [
    "### LightGBM"
   ]
  },
  {
   "cell_type": "code",
   "execution_count": 25,
   "metadata": {},
   "outputs": [
    {
     "name": "stdout",
     "output_type": "stream",
     "text": [
      "lgb's prediction accuracy is: 0.9206\n",
      "              precision    recall  f1-score   support\n",
      "\n",
      "           0       0.92      1.00      0.96     56638\n",
      "           1       0.41      0.01      0.01      4865\n",
      "\n",
      "    accuracy                           0.92     61503\n",
      "   macro avg       0.67      0.50      0.49     61503\n",
      "weighted avg       0.88      0.92      0.88     61503\n",
      "\n"
     ]
    }
   ],
   "source": [
    "rmodel = lgb.LGBMClassifier()\n",
    "\n",
    "k_fold=KFold(n_splits=2)\n",
    "scoring_fnc = make_scorer(accuracy_score)\n",
    "params= {'n_estimators': range(1,5), 'max_depth': range(1,5), 'learning_rate': [0.01, 0.05, 0.1]}\n",
    "grid = GridSearchCV(rmodel, param_grid=params,scoring=scoring_fnc,cv=k_fold)\n",
    "grid = rmodel.fit(X_train, y_train)\n",
    "preds = rmodel.predict(X_test)\n",
    "\n",
    "acc_lgb = (preds == y_test).sum().astype(float) / len(preds)\n",
    "print(\"lgb's prediction accuracy is: %3.4f\" % (acc_lgb))\n",
    "print(classification_report(y_test,grid.predict(X_test)))"
   ]
  }
 ],
 "metadata": {
  "kernelspec": {
   "display_name": "Python 3",
   "language": "python",
   "name": "python3"
  },
  "language_info": {
   "codemirror_mode": {
    "name": "ipython",
    "version": 3
   },
   "file_extension": ".py",
   "mimetype": "text/x-python",
   "name": "python",
   "nbconvert_exporter": "python",
   "pygments_lexer": "ipython3",
   "version": "3.8.5"
  }
 },
 "nbformat": 4,
 "nbformat_minor": 4
}
