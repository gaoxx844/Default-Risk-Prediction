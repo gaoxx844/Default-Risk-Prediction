{
 "cells": [
  {
   "cell_type": "markdown",
   "metadata": {},
   "source": [
    "### import functions"
   ]
  },
  {
   "cell_type": "code",
   "execution_count": 1,
   "metadata": {},
   "outputs": [],
   "source": [
    "from sklearn.model_selection  import cross_val_score, train_test_split, cross_validate, cross_val_score,KFold,RandomizedSearchCV,RepeatedKFold, GridSearchCV,StratifiedKFold\n",
    "from sklearn import svm,tree, neighbors,linear_model, preprocessing\n",
    "from sklearn.metrics import make_scorer, accuracy_score, confusion_matrix, classification_report, roc_curve, auc, r2_score\n",
    "from sklearn import metrics\n",
    "import xgboost as xgb\n",
    "import numpy as np\n",
    "import pandas as pd \n",
    "from sklearn.model_selection  import cross_val_score, train_test_split, cross_validate, cross_val_score,KFold,RandomizedSearchCV,RepeatedKFold, GridSearchCV,StratifiedKFold\n",
    "\n",
    "# sklearn preprocessing for dealing with categorical variables\n",
    "from sklearn.preprocessing import LabelEncoder\n",
    "\n",
    "# File system manangement\n",
    "import os\n",
    "\n",
    "# Suppress warnings \n",
    "import warnings\n",
    "warnings.filterwarnings('ignore')\n",
    "\n",
    "# matplotlib and seaborn for plotting\n",
    "import matplotlib.pyplot as plt\n",
    "import seaborn as sns\n",
    "import pandas as pd \n",
    "import missingno as msno "
   ]
  },
  {
   "cell_type": "markdown",
   "metadata": {},
   "source": [
    "### load in data"
   ]
  },
  {
   "cell_type": "code",
   "execution_count": null,
   "metadata": {},
   "outputs": [],
   "source": [
    "app_train = pd.read_csv('C:/Users/yidan/Desktop/PA/Project/application_train.csv')\n",
    "app_test = pd.read_csv('C:/Users/yidan/Desktop/PA/Project/application_test.csv')\n",
    "bureau= pd.read_csv('C:/Users/yidan/Desktop/PA/Project/bureau.csv')\n",
    "b_balance= pd.read_csv('C:/Users/yidan/Desktop/PA/Project/bureau_balance.csv')\n",
    "c_balance= pd.read_csv('C:/Users/yidan/Desktop/PA/Project/credit_card_balance.csv')\n",
    "install= pd.read_csv('C:/Users/yidan/Desktop/PA/Project/installments_payments.csv')"
   ]
  },
  {
   "cell_type": "markdown",
   "metadata": {},
   "source": [
    "### categorical -> numerical"
   ]
  },
  {
   "cell_type": "code",
   "execution_count": 13,
   "metadata": {},
   "outputs": [],
   "source": [
    "#categorical variable with less than \n",
    "# 3 unique values, encode to 0,1,2\n",
    "le = LabelEncoder()\n",
    "le_count = 0"
   ]
  },
  {
   "cell_type": "code",
   "execution_count": 14,
   "metadata": {},
   "outputs": [
    {
     "name": "stdout",
     "output_type": "stream",
     "text": [
      "3 columns were label encoded.\n"
     ]
    }
   ],
   "source": [
    "# Iterate through the columns\n",
    "for col in app_train:\n",
    "    if app_train[col].dtype == 'object':\n",
    "        # If 2 or fewer unique categories\n",
    "        if len(list(app_train[col].unique())) <= 2:\n",
    "            # Train on the training data\n",
    "            le.fit(app_train[col])\n",
    "            # Transform both training and testing data\n",
    "            app_train[col] = le.transform(app_train[col])\n",
    "            app_test[col] = le.transform(app_test[col])\n",
    "            \n",
    "            # Keep track of how many columns were label encoded\n",
    "            le_count += 1\n",
    "            \n",
    "print('%d columns were label encoded.' % le_count)"
   ]
  },
  {
   "cell_type": "code",
   "execution_count": 16,
   "metadata": {},
   "outputs": [
    {
     "name": "stdout",
     "output_type": "stream",
     "text": [
      "Training Features shape:  (307511, 243)\n",
      "Testing Features shape:  (48744, 239)\n"
     ]
    }
   ],
   "source": [
    "#categorical variable with more than \n",
    "# 3 unique values, convert to dummy variables\n",
    "# one-hot encoding of categorical variables\n",
    "app_train = pd.get_dummies(app_train)\n",
    "app_test = pd.get_dummies(app_test)\n",
    "\n",
    "print('Training Features shape: ', app_train.shape)\n",
    "print('Testing Features shape: ', app_test.shape)"
   ]
  },
  {
   "cell_type": "code",
   "execution_count": 17,
   "metadata": {},
   "outputs": [
    {
     "name": "stdout",
     "output_type": "stream",
     "text": [
      "There are 9274 anomalies in the test data out of 48744 entries\n"
     ]
    }
   ],
   "source": [
    "app_test['DAYS_EMPLOYED_ANOM'] = app_test[\"DAYS_EMPLOYED\"] == 365243\n",
    "app_test[\"DAYS_EMPLOYED\"].replace({365243: np.nan}, inplace = True)\n",
    "\n",
    "print('There are %d anomalies in the test data out of %d entries' % (app_test[\"DAYS_EMPLOYED_ANOM\"].sum(), len(app_test)))"
   ]
  },
  {
   "cell_type": "markdown",
   "metadata": {},
   "source": [
    "### Label Y"
   ]
  },
  {
   "cell_type": "code",
   "execution_count": 18,
   "metadata": {},
   "outputs": [
    {
     "name": "stdout",
     "output_type": "stream",
     "text": [
      "Training Features shape:  (307511, 240)\n",
      "Testing Features shape:  (48744, 239)\n"
     ]
    }
   ],
   "source": [
    "train_labels = app_train['TARGET']\n",
    "\n",
    "# Align the training and testing data, keep only columns present in both dataframes\n",
    "app_train, app_test = app_train.align(app_test, join = 'inner', axis = 1)\n",
    "\n",
    "# Add the target back in\n",
    "app_train['TARGET'] = train_labels\n",
    "\n",
    "print('Training Features shape: ', app_train.shape)\n",
    "print('Testing Features shape: ', app_test.shape)"
   ]
  },
  {
   "cell_type": "markdown",
   "metadata": {},
   "source": [
    "### impute missing values"
   ]
  },
  {
   "cell_type": "code",
   "execution_count": 19,
   "metadata": {},
   "outputs": [],
   "source": [
    "#filling in the missing values (imputation) and \n",
    "#normalizing the range of the features (feature scaling)\n",
    "from sklearn.preprocessing import MinMaxScaler, Imputer\n",
    "\n",
    "# Drop the target from the training data\n",
    "if 'TARGET' in app_train:\n",
    "    train = app_train.drop(columns = ['TARGET'])\n",
    "else:\n",
    "    train = app_train.copy()\n",
    "    \n",
    "# Feature names\n",
    "features = list(train.columns)\n",
    "\n",
    "# Copy of the testing data\n",
    "test = app_test.copy()\n",
    "\n",
    "# Median imputation of missing values\n",
    "imputer = Imputer(strategy = 'median')\n",
    "\n",
    "# Scale each feature to 0-1\n",
    "scaler = MinMaxScaler(feature_range = (0, 1))"
   ]
  },
  {
   "cell_type": "code",
   "execution_count": 20,
   "metadata": {},
   "outputs": [],
   "source": [
    "# Fit on the training data\n",
    "imputer.fit(train)\n",
    "\n",
    "# Transform both training and testing data\n",
    "train = imputer.transform(train)\n",
    "test = imputer.transform(app_test)"
   ]
  },
  {
   "cell_type": "code",
   "execution_count": 21,
   "metadata": {},
   "outputs": [
    {
     "name": "stdout",
     "output_type": "stream",
     "text": [
      "Training data shape:  (307511, 239)\n",
      "Testing data shape:  (48744, 239)\n"
     ]
    }
   ],
   "source": [
    "# Repeat with the scaler\n",
    "scaler.fit(train)\n",
    "train = scaler.transform(train)\n",
    "test = scaler.transform(test)\n",
    "\n",
    "print('Training data shape: ', train.shape)\n",
    "print('Testing data shape: ', test.shape)"
   ]
  },
  {
   "cell_type": "markdown",
   "metadata": {},
   "source": [
    "### split train test"
   ]
  },
  {
   "cell_type": "code",
   "execution_count": 22,
   "metadata": {},
   "outputs": [],
   "source": [
    "X_train, X_test, y_train, y_test = train_test_split(\n",
    "    train, train_labels, train_size=0.8)"
   ]
  },
  {
   "cell_type": "markdown",
   "metadata": {},
   "source": [
    "### Logistic Reg"
   ]
  },
  {
   "cell_type": "code",
   "execution_count": null,
   "metadata": {},
   "outputs": [],
   "source": [
    "from sklearn.linear_model import LogisticRegression\n",
    "\n",
    "# Make the model with the specified regularization parameter\n",
    "log_reg = LogisticRegression(C = 0.0001)\n",
    "\n",
    "# Train on the training data\n",
    "log_reg.fit(train, train_labels)\n",
    "\n",
    "k_fold = StratifiedKFold(n_splits=2)\n",
    "clf_log = linear_model.LogisticRegression(solver='liblinear')\n",
    "\n",
    "param_range = [0.01,0.1, 1, 10, 100]\n",
    "params= {'C': param_range, 'penalty': ['l1','l2']}\n",
    "scoring_fnc = make_scorer(accuracy_score)\n",
    "grid = GridSearchCV(clf_log, param_grid=params,scoring=scoring_fnc,cv=k_fold)\n",
    "grid = grid.fit(X_train, y_train)\n",
    "clf_log = grid.best_estimator_\n",
    "r2 = r2_score(y_test, grid.predict(X_test))\n",
    "\n",
    "print('Logistic Regression R2: %f'%r2)\n",
    "print('best parameters:')\n",
    "for key in params.keys():\n",
    "    print('%s: %s'%(key, clf_log.get_params()[key]))\n",
    "print('test score: %f'%clf_log.score(X_test, y_test))\n",
    "print(classification_report(y_test,grid.predict(X_test)))"
   ]
  },
  {
   "cell_type": "markdown",
   "metadata": {},
   "source": [
    "### Random Forest"
   ]
  },
  {
   "cell_type": "code",
   "execution_count": 47,
   "metadata": {},
   "outputs": [
    {
     "name": "stdout",
     "output_type": "stream",
     "text": [
      "Random Forest R2: -0.089111\n",
      "best parameters:\n",
      "n_estimators: warn\n",
      "max_depth: None\n",
      "test Accuracy score: 0.918291\n",
      "              precision    recall  f1-score   support\n",
      "\n",
      "           0       0.92      1.00      0.96     84717\n",
      "           1       0.33      0.00      0.00      7537\n",
      "\n",
      "    accuracy                           0.92     92254\n",
      "   macro avg       0.63      0.50      0.48     92254\n",
      "weighted avg       0.87      0.92      0.88     92254\n",
      "\n"
     ]
    }
   ],
   "source": [
    "#Random Forest\n",
    "from sklearn import ensemble\n",
    "clf_rf=ensemble.RandomForestClassifier()\n",
    "\n",
    "k_fold=KFold(n_splits=2)\n",
    "params= {'n_estimators': range(1,20), 'max_depth': range(1,20)}\n",
    "scoring_fnc = make_scorer(accuracy_score)\n",
    "grid = GridSearchCV(clf_rf, param_grid=params,scoring=scoring_fnc,cv=k_fold)\n",
    "grid = grid.fit(X_train, y_train)\n",
    "clf_rand= grid.best_estimator_\n",
    "r2 = r2_score(y_test, grid.predict(X_test))\n",
    "\n",
    "print('Random Forest R2: %f'%r2)\n",
    "print('best parameters:')\n",
    "for key in params.keys():\n",
    "    print('%s: %s'%(key, clf_rf.get_params()[key]))\n",
    "print('test Accuracy score: %f'%clf_rand.score(X_test, y_test))\n",
    "print(classification_report(y_test,grid.predict(X_test)))"
   ]
  },
  {
   "cell_type": "markdown",
   "metadata": {},
   "source": [
    "### XGBoost"
   ]
  },
  {
   "cell_type": "code",
   "execution_count": 2,
   "metadata": {},
   "outputs": [],
   "source": [
    "#XGBoost\n",
    "import xgboost as xgb\n",
    "data_dmatrix = xgb.DMatrix(data=train,label=train_labels)\n",
    "X_train, X_test, y_train, y_test = train_test_split(train, train_labels, test_size=0.3)\n",
    "xg_reg = xgb.XGBRegressor()\n",
    "\n",
    "params = {\"objective\":\"reg:linear\",'colsample_bytree': 0.3,'learning_rate': 0.1,\n",
    "                'max_depth': 5, 'alpha': 10}\n",
    "cv_results = xgb.cv(dtrain=data_dmatrix, params=params, nfold=2,metrics=\"auc\", num_boost_round=50,early_stopping_rounds=10,as_pandas=True, seed=123)\n",
    "\n",
    "\n",
    "xg_reg = xg_reg.fit(X_train,y_train)\n",
    "mse = metrics.mean_squared_error(y_test, xg_reg.predict(X_test))\n",
    "r2 = metrics.r2_score(y_test, xg_reg.predict(X_test))\n",
    "clf_xgb = xg_reg.best_estimator_\n",
    "#print('best parameters:')\n",
    "#for key in params.keys():\n",
    "#    print('%s: %s'%(key, clf_xgb.get_params()[key]))\n",
    "print(f'XGBoost MSE:{mse}')\n",
    "print(f'XGBoost r-squared:{r2}')\n",
    "print('test AUC score: %f'%clf_xgb.score(X_test, y_test))\n",
    "print(classification_report(y_test,grid.predict(X_test)))"
   ]
  },
  {
   "cell_type": "code",
   "execution_count": 40,
   "metadata": {},
   "outputs": [
    {
     "name": "stdout",
     "output_type": "stream",
     "text": [
      "[21:25:47] WARNING: C:/Jenkins/workspace/xgboost-win64_release_0.90/src/objective/regression_obj.cu:152: reg:linear is now deprecated in favor of reg:squarederror.\n",
      "XGBRegressor(alpha=10, base_score=0.5, booster='gbtree', colsample_bylevel=1,\n",
      "             colsample_bynode=1, colsample_bytree=0.3, gamma=0,\n",
      "             importance_type='gain', learning_rate=0.1, max_delta_step=0,\n",
      "             max_depth=5, min_child_weight=1, missing=None, n_estimators=10,\n",
      "             n_jobs=1, nthread=None, objective='reg:linear', random_state=0,\n",
      "             reg_alpha=0, reg_lambda=1, scale_pos_weight=1, seed=None,\n",
      "             silent=None, subsample=1, verbosity=1)\n",
      "XGBoost MSE:0.09293329288314628\n",
      "XGBoost R2:-0.23871858492968245\n"
     ]
    }
   ],
   "source": [
    "import xgboost as xgb\n",
    "data_dmatrix = xgb.DMatrix(data=train,label=train_labels)\n",
    "X_train, X_test, y_train, y_test = train_test_split(train, train_labels, test_size=0.3)\n",
    "xg_reg = xgb.XGBRegressor(objective ='reg:linear', colsample_bytree = 0.3, learning_rate = 0.1,\n",
    "                max_depth = 5, alpha = 10, n_estimators = 10)\n",
    "\n",
    "res=xg_reg.fit(X_train,y_train)\n",
    "preds = xg_reg.predict(X_test)\n",
    "\n",
    "mse = metrics.mean_squared_error(y_test, res.predict(X_test))\n",
    "r2 = metrics.r2_score(y_test, res.predict(X_test))\n",
    "print(xg_reg)\n"
   ]
  },
  {
   "cell_type": "code",
   "execution_count": 41,
   "metadata": {},
   "outputs": [
    {
     "name": "stdout",
     "output_type": "stream",
     "text": [
      "XGBoost MSE:0.09293329288314628\n",
      "XGBoost R2:-0.23871858492968245\n",
      "test AUC score: -0.238719\n"
     ]
    }
   ],
   "source": [
    "print(f'XGBoost MSE:{mse}')\n",
    "print(f'XGBoost R2:{r2}')\n",
    "print('test AUC score: %f'%xg_reg.score(X_test, y_test))"
   ]
  },
  {
   "cell_type": "code",
   "execution_count": 44,
   "metadata": {},
   "outputs": [
    {
     "name": "stdout",
     "output_type": "stream",
     "text": [
      "Collecting lightgbm\n",
      "  Downloading https://files.pythonhosted.org/packages/1f/cb/a8ec24334c35a7d0c87b4e4e056bd2137573c7c1bd81c760b79a2f370254/lightgbm-2.3.1-py2.py3-none-win_amd64.whl (544kB)\n",
      "Requirement already satisfied: scipy in c:\\users\\yidan\\appdata\\local\\continuum\\anaconda3\\lib\\site-packages (from lightgbm) (1.2.1)\n",
      "Requirement already satisfied: numpy in c:\\users\\yidan\\appdata\\local\\continuum\\anaconda3\\lib\\site-packages (from lightgbm) (1.16.2)\n",
      "Requirement already satisfied: scikit-learn in c:\\users\\yidan\\appdata\\local\\continuum\\anaconda3\\lib\\site-packages (from lightgbm) (0.21.3)\n",
      "Requirement already satisfied: joblib>=0.11 in c:\\users\\yidan\\appdata\\local\\continuum\\anaconda3\\lib\\site-packages (from scikit-learn->lightgbm) (0.14.0)\n",
      "Installing collected packages: lightgbm\n",
      "Successfully installed lightgbm-2.3.1\n",
      "Note: you may need to restart the kernel to use updated packages.\n"
     ]
    }
   ],
   "source": [
    "pip install lightgbm"
   ]
  },
  {
   "cell_type": "markdown",
   "metadata": {},
   "source": [
    "### LightGBM"
   ]
  },
  {
   "cell_type": "code",
   "execution_count": 1,
   "metadata": {},
   "outputs": [],
   "source": [
    "# random search lightGBM\n",
    "import lightgbm as lgb\n",
    "import ast\n",
    "random_best = ast.literal_eval(random.loc[0, 'hyperparameters'])\n",
    "\n",
    "rmodel = lgb.LGBMClassifier(**random_best)\n",
    "rmodel.fit(train, train_labels)"
   ]
  },
  {
   "cell_type": "code",
   "execution_count": null,
   "metadata": {},
   "outputs": [],
   "source": [
    "k_fold=KFold(n_splits=2)\n",
    "scoring_fnc = make_scorer(accuracy_score)\n",
    "grid = GridSearchCV(clf_log, param_grid=params,scoring=scoring_fnc,cv=k_fold)\n",
    "grid = rmodel.fit(X_train, y_train)\n",
    "clf_GBM = grid.best_estimator_\n",
    "r2 = r2_score(y_test, grid.predict(X_test))\n",
    "\n",
    "print('lightGBM R2: %f'%r2)\n",
    "print('best parameters:')\n",
    "for key in params.keys():\n",
    "    print('%s: %s'%(key, clf_GBM.get_params()[key]))\n",
    "print('test Accuracy score: %f'%clf_GBM.score(X_test, y_test))\n",
    "print(classification_report(y_test,grid.predict(X_test)))"
   ]
  },
  {
   "cell_type": "code",
   "execution_count": null,
   "metadata": {},
   "outputs": [],
   "source": [
    "# Bayesian Optimization lightGBM\n",
    "bayes_best = ast.literal_eval(opt.loc[0, 'hyperparameters'])\n",
    "\n",
    "bmodel = lgb.LGBMClassifier(**bayes_best)\n",
    "bmodel.fit(train, train_labels)"
   ]
  },
  {
   "cell_type": "code",
   "execution_count": null,
   "metadata": {},
   "outputs": [],
   "source": [
    "k_fold=KFold(n_splits=2)\n",
    "scoring_fnc = make_scorer(accuracy_score)\n",
    "grid = GridSearchCV(clf_log, param_grid=params,scoring=scoring_fnc,cv=k_fold)\n",
    "grid = grid.fit(X_train, y_train)\n",
    "clf_log = grid.best_estimator_\n",
    "r2 = r2_score(y_test, grid.predict(X_test))\n",
    "\n",
    "print('Linear Regression R2: %f'%r2)\n",
    "print('best parameters:')\n",
    "for key in params.keys():\n",
    "    print('%s: %s'%(key, clf_log.get_params()[key]))\n",
    "print('test Accuracy score: %f'%clf_log.score(X_test, y_test))\n",
    "print(classification_report(y_test,grid.predict(X_test)))"
   ]
  },
  {
   "cell_type": "code",
   "execution_count": null,
   "metadata": {},
   "outputs": [],
   "source": []
  }
 ],
 "metadata": {
  "kernelspec": {
   "display_name": "Python 3",
   "language": "python",
   "name": "python3"
  },
  "language_info": {
   "codemirror_mode": {
    "name": "ipython",
    "version": 3
   },
   "file_extension": ".py",
   "mimetype": "text/x-python",
   "name": "python",
   "nbconvert_exporter": "python",
   "pygments_lexer": "ipython3",
   "version": "3.7.3"
  }
 },
 "nbformat": 4,
 "nbformat_minor": 2
}
